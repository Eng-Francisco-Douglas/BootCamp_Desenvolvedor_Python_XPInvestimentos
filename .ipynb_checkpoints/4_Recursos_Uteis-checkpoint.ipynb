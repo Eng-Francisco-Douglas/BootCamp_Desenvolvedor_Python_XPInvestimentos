{
 "cells": [
  {
   "cell_type": "markdown",
   "id": "9a204e20-b597-4655-9cb5-ad36b9a7adcf",
   "metadata": {},
   "source": [
    "## Compreensão de Listas"
   ]
  },
  {
   "cell_type": "raw",
   "id": "a631f117-b7ec-4203-ba1d-71f0c7d76e10",
   "metadata": {},
   "source": [
    "# List comprehension sem condicional\n",
    "[expr(item) for item in sequencia]"
   ]
  },
  {
   "cell_type": "code",
   "execution_count": 4,
   "id": "80c6a64c-b921-4da0-ae33-9c1c69fc3d7f",
   "metadata": {},
   "outputs": [
    {
     "name": "stdout",
     "output_type": "stream",
     "text": [
      "[1, 4, 9, 16, 25, 36, 49, 64, 81, 100]\n"
     ]
    }
   ],
   "source": [
    "# Criar uma lista com os numeros de 1 a 10 elevados a 2\n",
    "potencia = []\n",
    "for item in range(1, 11):\n",
    "    potencia.append(item ** 2)\n",
    "print(potencia)"
   ]
  },
  {
   "cell_type": "code",
   "execution_count": 5,
   "id": "324e715e-db6f-4858-bc40-6954d91988f8",
   "metadata": {},
   "outputs": [
    {
     "data": {
      "text/plain": [
       "[1, 4, 9, 16, 25, 36, 49, 64, 81, 100]"
      ]
     },
     "execution_count": 5,
     "metadata": {},
     "output_type": "execute_result"
    }
   ],
   "source": [
    "# Utilizando List Comprehesion\n",
    "potencias = [item ** 2 for item in range(1,11)]\n",
    "potencias"
   ]
  },
  {
   "cell_type": "code",
   "execution_count": 6,
   "id": "c5f0a571-6af6-473d-8251-a3b26365f35f",
   "metadata": {},
   "outputs": [
    {
     "data": {
      "text/plain": [
       "[10, 20, 30, 40, 50, 60, 70, 80, 90, 100, 110, 120, 130, 140, 150]"
      ]
     },
     "execution_count": 6,
     "metadata": {},
     "output_type": "execute_result"
    }
   ],
   "source": [
    "# Multiplicando por 10 os numeros de 1 a 15\n",
    "[n * 10 for n in range(1, 16)]"
   ]
  },
  {
   "cell_type": "code",
   "execution_count": 8,
   "id": "ab93addb-42c7-4ae2-a88e-1a71a989f7be",
   "metadata": {},
   "outputs": [
    {
     "data": {
      "text/plain": [
       "['A', 'N', 'T', 'O', 'N', 'I', 'O']"
      ]
     },
     "execution_count": 8,
     "metadata": {},
     "output_type": "execute_result"
    }
   ],
   "source": [
    "# Cria lista com os caracteres em maiusculos\n",
    "[c.upper() for c in 'antonio']"
   ]
  },
  {
   "cell_type": "code",
   "execution_count": 10,
   "id": "297ef4d7-23d4-4340-aa96-113c39c3b653",
   "metadata": {},
   "outputs": [
    {
     "data": {
      "text/plain": [
       "[False, True, False, True, False, True, False, True, False, True]"
      ]
     },
     "execution_count": 10,
     "metadata": {},
     "output_type": "execute_result"
    }
   ],
   "source": [
    "# Indica se n e par ou não\n",
    "[(n % 2 == 0) for n in range(1, 11)]"
   ]
  },
  {
   "cell_type": "code",
   "execution_count": 11,
   "id": "266beb87-ee31-4d6e-bac3-d967ada9902d",
   "metadata": {},
   "outputs": [
    {
     "name": "stdout",
     "output_type": "stream",
     "text": [
      "[4, 16, 36, 64, 100]\n"
     ]
    }
   ],
   "source": [
    "# Cria uma lista com os numeros IMPARES de 1 a 10 elevado a 2\n",
    "potencias = []\n",
    "for item in range(1, 11):\n",
    "    if item % 2 == 0:\n",
    "        potencias.append(item ** 2)\n",
    "print(potencias)"
   ]
  },
  {
   "cell_type": "code",
   "execution_count": 12,
   "id": "515b227a-ca09-4357-8f1f-f5e64baded39",
   "metadata": {},
   "outputs": [
    {
     "name": "stdout",
     "output_type": "stream",
     "text": [
      "[1, 9, 25, 49, 81]\n"
     ]
    }
   ],
   "source": [
    "# Tambem podemos reescrever utilizando list comprehesion com verificacao condicional\n",
    "potencias = [item ** 2 for item in range(1, 11) if item % 2 != 0]\n",
    "print(potencias)"
   ]
  },
  {
   "cell_type": "code",
   "execution_count": null,
   "id": "3a3f3a48-e7a2-46ed-9fb9-559dac2b9c03",
   "metadata": {},
   "outputs": [],
   "source": []
  },
  {
   "cell_type": "code",
   "execution_count": null,
   "id": "d0749179-35e8-45e3-ba0b-8b2b9d6c6d63",
   "metadata": {},
   "outputs": [],
   "source": []
  },
  {
   "cell_type": "code",
   "execution_count": null,
   "id": "4fb095e3-b98e-41a3-b17c-225e4c6f993a",
   "metadata": {},
   "outputs": [],
   "source": []
  },
  {
   "cell_type": "code",
   "execution_count": null,
   "id": "19ed814b-edb7-4e23-b21e-021ce51e76c5",
   "metadata": {},
   "outputs": [],
   "source": []
  }
 ],
 "metadata": {
  "kernelspec": {
   "display_name": "Python 3 (ipykernel)",
   "language": "python",
   "name": "python3"
  },
  "language_info": {
   "codemirror_mode": {
    "name": "ipython",
    "version": 3
   },
   "file_extension": ".py",
   "mimetype": "text/x-python",
   "name": "python",
   "nbconvert_exporter": "python",
   "pygments_lexer": "ipython3",
   "version": "3.10.9"
  }
 },
 "nbformat": 4,
 "nbformat_minor": 5
}
