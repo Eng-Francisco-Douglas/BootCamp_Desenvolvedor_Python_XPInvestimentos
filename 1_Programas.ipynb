{
 "cells": [
  {
   "attachments": {},
   "cell_type": "markdown",
   "metadata": {},
   "source": [
    "### **Primeiros Programas de Exemplo**"
   ]
  },
  {
   "cell_type": "code",
   "execution_count": 34,
   "metadata": {},
   "outputs": [
    {
     "name": "stdout",
     "output_type": "stream",
     "text": [
      "Ola Francisco Douglas\n"
     ]
    }
   ],
   "source": [
    "nome = 'Francisco Douglas'\n",
    "print('Ola', nome)"
   ]
  },
  {
   "cell_type": "code",
   "execution_count": 35,
   "metadata": {},
   "outputs": [
    {
     "name": "stdout",
     "output_type": "stream",
     "text": [
      "Nome: Francisco Douglas <class 'str'>\n",
      "Idade: 28 <class 'int'>\n",
      "Peso: 80.2 <class 'float'>\n",
      "Casado: True <class 'bool'>\n"
     ]
    }
   ],
   "source": [
    "# Criando variaveis\n",
    "pessoa = 'Francisco Douglas' # Variavel nome tipo (str)\n",
    "idade = 28 # Variavel idade tipo (int)\n",
    "peso = 80.2 # Variavel Peso tipo (float)\n",
    "casado = True # Variavel Casado tipo (bool)\n",
    "\n",
    "print(f'Nome: {pessoa} {type(pessoa)}')\n",
    "print(f'Idade: {idade} {type(idade)}')\n",
    "print(f'Peso: {peso} {type(peso)}')\n",
    "print(f'Casado: {casado} {type(casado)}')"
   ]
  },
  {
   "cell_type": "code",
   "execution_count": null,
   "metadata": {},
   "outputs": [
    {
     "name": "stdout",
     "output_type": "stream",
     "text": [
      "Resultado Final\n",
      "Menores [1, 2, 3, 4]\n",
      "Maiores [6, 7, 8, 9]\n"
     ]
    }
   ],
   "source": [
    "# Define o valor do limiar\n",
    "limiar = 5 \n",
    "\n",
    "maiores = [] # Cria lista de maiores\n",
    "menores = [] # Cria lista de Menores\n",
    "\n",
    "# Divide os numeros de 1 a 10 em maiores e menores\n",
    "for i in range(1, 10):\n",
    "    if (i < limiar):\n",
    "        menores.append(i)\n",
    "    elif (i > limiar):\n",
    "        maiores.append(i)\n",
    "\n",
    "# Imprime na tela os valores das listas\n",
    "print(\"Resultado Final\")\n",
    "print(f\"Menores {menores}\")\n",
    "print(f\"Maiores {maiores}\")"
   ]
  },
  {
   "cell_type": "code",
   "execution_count": null,
   "metadata": {},
   "outputs": [
    {
     "name": "stdout",
     "output_type": "stream",
     "text": [
      "Francisco Douglas tem 28 anos e Masculino\n"
     ]
    }
   ],
   "source": [
    "# Declaração de Variaveis\n",
    "nome = 'Francisco Douglas'\n",
    "idade = 28\n",
    "sexo = 'Masculino'\n",
    "\n",
    "print(f\"{nome} tem {idade} anos e {sexo}\")"
   ]
  },
  {
   "cell_type": "code",
   "execution_count": null,
   "metadata": {},
   "outputs": [
    {
     "name": "stdout",
     "output_type": "stream",
     "text": [
      "Maior\n",
      "Programa Encerrado com sucesso\n"
     ]
    }
   ],
   "source": [
    "# Jogo da Advinhação\n",
    "from random import randint\n",
    "numero_pc = randint(1, 10)\n",
    "\n",
    "opcao = int(input(\"Digite um numero: \"))\n",
    "\n",
    "if numero_pc == opcao:\n",
    "    print(\"Parabens voce acertou.\")\n",
    "else:\n",
    "    if opcao > numero_pc:\n",
    "        print(\"Menor\")\n",
    "    if opcao < numero_pc:\n",
    "        print(\"Maior\")\n",
    "print(\"Programa Encerrado com sucesso\")"
   ]
  },
  {
   "attachments": {},
   "cell_type": "markdown",
   "metadata": {},
   "source": [
    "#### **Tipos de Dados e Tipos Primitivos**"
   ]
  },
  {
   "cell_type": "code",
   "execution_count": null,
   "metadata": {},
   "outputs": [
    {
     "name": "stdout",
     "output_type": "stream",
     "text": [
      "O Tipo de Numero_inteiro e: <class 'int'>\n",
      "O Tipo de Numero_flot e: <class 'float'>\n",
      "O Tipo de Booleano e: <class 'bool'>\n",
      "O Tipo de String e: <class 'str'>\n"
     ]
    }
   ],
   "source": [
    "numero_inteiro = 17\n",
    "numero_flot  = 23.23\n",
    "booleano = True\n",
    "string = 'Francisco'\n",
    "\n",
    "print(f'O Tipo de Numero_inteiro e: {type(numero_inteiro)}')\n",
    "print(f'O Tipo de Numero_flot e: {type(numero_flot)}')\n",
    "print(f'O Tipo de Booleano e: {type(booleano)}')\n",
    "print(f'O Tipo de String e: {type(string)}')"
   ]
  },
  {
   "cell_type": "code",
   "execution_count": null,
   "metadata": {},
   "outputs": [
    {
     "name": "stdout",
     "output_type": "stream",
     "text": [
      "O Numero 4 e Par ou Impar? Ele e PAR\n"
     ]
    }
   ],
   "source": [
    "# Numero Impar ou PAR\n",
    "from random import randint\n",
    "numero = randint(1, 10)\n",
    "\n",
    "print(f\"O Numero {numero} e Par ou Impar?\", end=' ')\n",
    "\n",
    "if numero % 2 == 0:\n",
    " print(\"Ele e PAR\")\n",
    "else:\n",
    " print(\"Ele e IMPAR\")"
   ]
  },
  {
   "cell_type": "code",
   "execution_count": null,
   "metadata": {},
   "outputs": [
    {
     "name": "stdout",
     "output_type": "stream",
     "text": [
      "-----Jogo-----\n",
      "Escolha 1 opcao:\n",
      "[0] Pedra\n",
      "[1] Papel\n",
      "[2] Tesoura\n",
      "Computador Jogou: 1 = Papel\n",
      "Voce jogou: 1 = Papel\n",
      "Empate\n"
     ]
    }
   ],
   "source": [
    "# Jogo \n",
    "from random import randint\n",
    "numero_aleatorio = randint(0, 3)\n",
    "\n",
    "lista_num = ['Pedra','Papel','Tesoura']\n",
    "\n",
    "print(\"-----Jogo-----\")\n",
    "print('''Escolha 1 opcao:\n",
    "[0] Pedra\n",
    "[1] Papel\n",
    "[2] Tesoura''')\n",
    "\n",
    "opcao = input(\"Digite sua opção: \")\n",
    "\n",
    "try:\n",
    "    opcao = int(opcao)\n",
    "    print(f\"Computador Jogou: {numero_aleatorio} = {lista_num[numero_aleatorio]}\")\n",
    "    print(f\"Voce jogou: {opcao} = {lista_num[opcao]}\")\n",
    "    op = lista_num[opcao]\n",
    "    pc = lista_num[numero_aleatorio]\n",
    "\n",
    "    if op == pc:\n",
    "        print(\"Empate\")\n",
    "    elif op == 'Pedra' and pc == 'Papel':\n",
    "        print('Computador Ganhou')\n",
    "    elif op == 'Pedra' and pc == 'Tesoura':\n",
    "        print('Voce Ganhou')\n",
    "    elif op == 'Papel' and pc == 'Pedra':\n",
    "        print('Voce Ganhour')\n",
    "    elif op == 'Papel' and pc == 'Tesoura':\n",
    "        print('Computador Ganhou')\n",
    "    elif op == 'Tesoura' and pc == 'Pedra':\n",
    "        print('Computador Ganhou')\n",
    "    elif op == 'Tesoura' and pc == 'Papel':\n",
    "        print('Voce Ganhou')\n",
    "    else:\n",
    "        print('Digite apenas numeros entre 0 e 2')\n",
    "\n",
    "except:\n",
    "    print(\"Erro! Verifique seu codigo\")\n"
   ]
  },
  {
   "attachments": {},
   "cell_type": "markdown",
   "metadata": {},
   "source": [
    "### **Condicoes em Python**"
   ]
  },
  {
   "cell_type": "code",
   "execution_count": null,
   "metadata": {},
   "outputs": [
    {
     "name": "stdout",
     "output_type": "stream",
     "text": [
      "Idade Maior\n"
     ]
    }
   ],
   "source": [
    "# Exemplo condição verdadeira\n",
    "idade = 35\n",
    "\n",
    "if idade >= 18:\n",
    "    print(\"Idade Maior\")\n",
    "else:\n",
    "    print(\"Idade Menor\")"
   ]
  },
  {
   "cell_type": "code",
   "execution_count": null,
   "metadata": {},
   "outputs": [
    {
     "name": "stdout",
     "output_type": "stream",
     "text": [
      "Não Podera se aposenta\n"
     ]
    }
   ],
   "source": [
    "# Verifica se esta apta a se aposenta\n",
    "idade = 20\n",
    "temp_contrib = 20\n",
    "\n",
    "if idade >= 65:\n",
    "    print(\"Pode se Aposenta\")\n",
    "else:\n",
    "    if temp_contrib >= 35:\n",
    "        print(\"Habilitado para se aposenta por tempo de Contribuição\")\n",
    "    else:\n",
    "        print(\"Não Podera se aposenta\")"
   ]
  },
  {
   "attachments": {},
   "cell_type": "markdown",
   "metadata": {},
   "source": [
    "#### **Laçõs de Repetições em Python**"
   ]
  },
  {
   "cell_type": "code",
   "execution_count": null,
   "metadata": {},
   "outputs": [
    {
     "name": "stdout",
     "output_type": "stream",
     "text": [
      "Meu nome e Francisco\n",
      "Meu nome e Francisco\n",
      "Meu nome e Francisco\n",
      "Meu nome e Francisco\n",
      "Meu nome e Francisco\n"
     ]
    }
   ],
   "source": [
    "# Exemplo while\n",
    "n = 5\n",
    "while n > 0:\n",
    "    print(\"Meu nome e Francisco\")\n",
    "    n -= 1"
   ]
  },
  {
   "cell_type": "code",
   "execution_count": null,
   "metadata": {},
   "outputs": [
    {
     "name": "stdout",
     "output_type": "stream",
     "text": [
      "A Soma dos 11 numeros e igual a 55\n"
     ]
    }
   ],
   "source": [
    "# Exemplo com n = 10\n",
    "n = 10\n",
    "soma = 0\n",
    "contador = 0\n",
    "\n",
    "while contador <= n:\n",
    "    soma += contador\n",
    "    contador += 1\n",
    "print(f\"A Soma dos {contador} numeros e igual a {soma}\")"
   ]
  },
  {
   "cell_type": "code",
   "execution_count": null,
   "metadata": {},
   "outputs": [
    {
     "name": "stdout",
     "output_type": "stream",
     "text": [
      "1 ,2 ,3 ,4 ,5 ,6 ,7 ,8 ,9 ,"
     ]
    }
   ],
   "source": [
    "for c in range(1, 10):\n",
    "    print(c, end=' ,')"
   ]
  },
  {
   "cell_type": "code",
   "execution_count": null,
   "metadata": {},
   "outputs": [
    {
     "name": "stdout",
     "output_type": "stream",
     "text": [
      "Ao todo temos 20 Numeros Pares e a Soma e 420\n",
      "Numeros Pares: [2, 4, 6, 8, 10, 12, 14, 16, 18, 20, 22, 24, 26, 28, 30, 32, 34, 36, 38, 40]\n",
      "\n",
      "Ao todo temos 20 Numeroes Impares e a soma e 400\n",
      "Numeros Impares: [1, 3, 5, 7, 9, 11, 13, 15, 17, 19, 21, 23, 25, 27, 29, 31, 33, 35, 37, 39]\n"
     ]
    }
   ],
   "source": [
    "lista_par   = []\n",
    "lista_impar = []\n",
    "soma_par    = 0 \n",
    "soma_impar  = 0\n",
    "cont_par    = 0\n",
    "cont_impar  = 0\n",
    "\n",
    "for c in range(1, 41):\n",
    "    if c % 2 == 0:\n",
    "        cont_par += 1\n",
    "        soma_par += c\n",
    "        lista_par.append(c)\n",
    "    \n",
    "    elif c % 2 == 1:\n",
    "        cont_impar += 1\n",
    "        soma_impar += c\n",
    "        lista_impar.append(c)\n",
    "print(f'Ao todo temos {cont_par} Numeros Pares e a Soma e {soma_par}')\n",
    "print(f'Numeros Pares: {lista_par}')\n",
    "print()\n",
    "print(f'Ao todo temos {cont_impar} Numeroes Impares e a soma e {soma_impar}')\n",
    "print(f'Numeros Impares: {lista_impar}')"
   ]
  },
  {
   "cell_type": "code",
   "execution_count": null,
   "metadata": {},
   "outputs": [],
   "source": []
  },
  {
   "cell_type": "code",
   "execution_count": null,
   "metadata": {},
   "outputs": [],
   "source": []
  }
 ],
 "metadata": {
  "kernelspec": {
   "display_name": "Python 3 (ipykernel)",
   "language": "python",
   "name": "python3"
  },
  "language_info": {
   "codemirror_mode": {
    "name": "ipython",
    "version": 3
   },
   "file_extension": ".py",
   "mimetype": "text/x-python",
   "name": "python",
   "nbconvert_exporter": "python",
   "pygments_lexer": "ipython3",
   "version": "3.10.9"
  }
 },
 "nbformat": 4,
 "nbformat_minor": 4
}
